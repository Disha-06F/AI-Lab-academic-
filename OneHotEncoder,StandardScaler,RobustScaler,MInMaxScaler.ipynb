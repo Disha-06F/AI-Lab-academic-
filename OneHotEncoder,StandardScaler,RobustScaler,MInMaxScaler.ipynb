{
 "cells": [
  {
   "cell_type": "markdown",
   "id": "0ea5cbe0-7a8d-49b4-916c-354c7f8143a0",
   "metadata": {},
   "source": [
    "### <span style='color:Red'>OneHotEncoder</span>\n",
    "##### Converts categorical (text) data into numeric dummy variables.\n",
    "##### sparse_output=True → returns a sparse matrix (default, memory efficient)\n",
    "##### sparse_output=False → returns a dense NumPy array (easier to read and print)"
   ]
  },
  {
   "cell_type": "code",
   "execution_count": 3,
   "id": "d08da10b-043e-456d-ae0b-71d7378260b9",
   "metadata": {},
   "outputs": [
    {
     "name": "stdout",
     "output_type": "stream",
     "text": [
      "[[0. 0. 1.]\n",
      " [0. 1. 0.]\n",
      " [1. 0. 0.]]\n"
     ]
    }
   ],
   "source": [
    "from sklearn.preprocessing import OneHotEncoder\n",
    "import pandas as pd\n",
    "\n",
    "data=pd.DataFrame({'color':['Red','Green','Blue']})\n",
    "encoder=OneHotEncoder(sparse_output=False)\n",
    "encoded=encoder.fit_transform(data[['color']])\n",
    "print(encoded)"
   ]
  },
  {
   "cell_type": "markdown",
   "id": "dca1130a-98ae-4e58-93b8-ddcb6ad041ef",
   "metadata": {},
   "source": [
    "### <span style='color:Red'> StandardScaler </span>\n",
    "###### Scales features so that each has mean = 0 and standard deviation = 1.\n",
    "###### Useful for models like Logistic Regression, SVM, etc.\n",
    "###### This process is also called Z-score normalization.\n",
    "##### The Mathematical Formula\n",
    "\n",
    "###### For each value x in a feature column:\n",
    "##### z=x-μ/σ\n",
    "###### Where:\n",
    "###### x = original value\n",
    "###### μ = mean of the column\n",
    "###### σ = standard deviation of the column\n",
    "###### z = standardized value"
   ]
  },
  {
   "cell_type": "code",
   "execution_count": 5,
   "id": "bc74ec5d-38a2-46f5-bd3a-1e2b7191f3b2",
   "metadata": {},
   "outputs": [
    {
     "name": "stdout",
     "output_type": "stream",
     "text": [
      "[[-1.22474487 -1.22474487]\n",
      " [ 0.          0.        ]\n",
      " [ 1.22474487  1.22474487]]\n"
     ]
    }
   ],
   "source": [
    "from sklearn.preprocessing import StandardScaler\n",
    "import numpy as np\n",
    "data=np.array([[10, 200],\n",
    "               [20,400],\n",
    "               [30, 600]])\n",
    "scalar=StandardScaler()\n",
    "scaled=scalar.fit_transform(data)\n",
    "print(scaled)"
   ]
  },
  {
   "cell_type": "markdown",
   "id": "82e3705d-08ab-4776-9c9e-de98158113c9",
   "metadata": {},
   "source": [
    "#### <span style='color:Red'>RobustScaler</span>\n",
    "###### Reduces the effect of outliers by using the median and IQR (interquartile range) instead of mean/std.\n",
    "###### Mathematical Formula\n",
    "#### z= (x-median)/IQR\n",
    "##### where,\n",
    "##### x=original value\n",
    "##### median=median of the column\n",
    "#### IQR=Q3-Q1\n",
    "##### z=scaled value"
   ]
  },
  {
   "cell_type": "code",
   "execution_count": 8,
   "id": "776fa279-06ae-46e8-8192-34c62b4d0b25",
   "metadata": {},
   "outputs": [
    {
     "name": "stdout",
     "output_type": "stream",
     "text": [
      "[[-0.002002]\n",
      " [ 0.      ]\n",
      " [ 1.997998]]\n"
     ]
    }
   ],
   "source": [
    "from sklearn.preprocessing import RobustScaler\n",
    "data=np.array([[10],[20],[10000]])\n",
    "scalar=RobustScaler()\n",
    "scaled=scalar.fit_transform(data)\n",
    "print(scaled)"
   ]
  },
  {
   "cell_type": "markdown",
   "id": "43ca919c-8d28-4694-a914-27d917078742",
   "metadata": {},
   "source": [
    "### Here outliner is 10000"
   ]
  },
  {
   "cell_type": "markdown",
   "id": "e52c0a9c-f2e8-4f6a-81eb-cb9030e03cab",
   "metadata": {},
   "source": [
    "### <span style='color: Red'>MinMaxScaler</span>\n",
    "##### MinMaxScaler is a feature scaling technique that scales features to a fixed range, usually [0, 1].\n",
    "### Mathematical Formula\n",
    "##### Xscaled = (X-Xmin)/(Xmax-Xmin)\n",
    "###### where,\n",
    "#### x=original Value\n",
    "#### Xmin=minimum value in the column\n",
    "#### Xmax=maximum value in the column\n",
    "#### Xscaled = scaled value in [0,1]"
   ]
  },
  {
   "cell_type": "code",
   "execution_count": null,
   "id": "5d73df6c-ec28-4c0a-a6bd-3a4d796009b8",
   "metadata": {},
   "outputs": [],
   "source": [
    "from sklearn.preprocessing import MinMaxScaler\n",
    "data=np.array([[10],[20],[30]])\n",
    "scalar=scalar.fit_transform(data)\n"
   ]
  }
 ],
 "metadata": {
  "kernelspec": {
   "display_name": "Python 3 (ipykernel)",
   "language": "python",
   "name": "python3"
  },
  "language_info": {
   "codemirror_mode": {
    "name": "ipython",
    "version": 3
   },
   "file_extension": ".py",
   "mimetype": "text/x-python",
   "name": "python",
   "nbconvert_exporter": "python",
   "pygments_lexer": "ipython3",
   "version": "3.12.7"
  }
 },
 "nbformat": 4,
 "nbformat_minor": 5
}
